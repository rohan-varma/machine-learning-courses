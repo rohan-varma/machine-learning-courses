{
 "cells": [
  {
   "cell_type": "markdown",
   "metadata": {
    "deletable": true,
    "editable": true
   },
   "source": [
    "#### Xavier Initialization of Weights\n",
    "\n",
    "- The main intuition is that our inputs $x$ into our network have a certain distribution and variance, and we want our outputs, for example after passing our inputs through a layer, to have the same variance. \n",
    "- Xavier intialization helps in training deep neural networks because it propagates signals deeper through the network, resulting in gradients being propagated backwards through the network, and not resulting in the network failing due to the vanishing or exploding gradient problem. \n",
    "- Intuitively, it keeps signals from growing too large by keeping the weights small enough, and it keeps signals from being too small by keeping the weights large enough, at initialization time. This is done by trying to make sure tha the variance between each successive layer stays roughly the same, so that there are very few, if any, unusually large or unusually small signals being propagated through the network. \n",
    "\n",
    "#### Derivation\n",
    "- The general approach to Xavier intialization is to initialize your weights with mean $0$ and variance $\\frac{1}{n}$< where $n$ is the shape of the input to the layer (i.e. if your input has 784 dimensions like MNIST, you'd use $n = 784$). \n",
    "- To see why this makes sense, we can derive it below: \n",
    "- Like we mentioned above, we want $Var(Y) = Var(X)$. \n",
    "- Say that $Y$ is a linear combination of our inputs: $Y = \\sum_i w_ix_i$. \n",
    "- Then, $Var(y) = Var(\\sum_i w_ix_i)$. We assume that each feature is independent of the other, so $Var(y) = \\sum_{i=1}^{N} Var(w_ix_i)$. \n",
    "- Next, we compute $Var(w_ix_i)$. To do this, we use the identify that $Var(a) = E[a^2] - E[a]^2$. Therefore, we have\n",
    "\n",
    "$$Var(w_ix_i) = E[w_i^2x_i^2] - E[w_ix_i]^2$$. \n",
    "\n",
    "We invoke an independence assumption again, namely that the weights and features are independent of each other, so that $E[w_i^2x_i^2] =  E[w_i^2]E[x_i^2]$. Therefore, we have \n",
    "\n",
    "$$Var(w_ix_i) = E[w_i^2]E[x_i^2] - (E[w_i]E[x_i])^2$$. \n",
    "\n",
    "Next, since we assume that our data and weights are centered around $0$, we have $E[w_i] = E[x_i] = 0$ and\n",
    "\n",
    "$$Var(w_ix_i) = E[w_i^2]E[x_i^2]$$. \n",
    "\n",
    "But since $Var(w_i) = E[w_i^2] - E[w_i]^2 = E[w_i^2] $ (and same for $x$), we have \n",
    "\n",
    "$$Var(w_ix_i) = Var(w_i)Var(x_i)$$. \n",
    "\n",
    "Therefore, we have \n",
    "\n",
    "$$Var(y) = \\sum_{i=1}^{N} Var(w_i)Var(x_i) = nVar(w_i)Var(x_i)$$. \n",
    "\n",
    "Since we want $Var(y) = Var(x_i)$, we simply initialize $Var(w_i) = \\frac{1}{n}$.\n"
   ]
  },
  {
   "cell_type": "code",
   "execution_count": null,
   "metadata": {
    "collapsed": true,
    "deletable": true,
    "editable": true
   },
   "outputs": [],
   "source": [
    "-"
   ]
  }
 ],
 "metadata": {
  "kernelspec": {
   "display_name": "Python 3",
   "language": "python",
   "name": "python3"
  },
  "language_info": {
   "codemirror_mode": {
    "name": "ipython",
    "version": 3
   },
   "file_extension": ".py",
   "mimetype": "text/x-python",
   "name": "python",
   "nbconvert_exporter": "python",
   "pygments_lexer": "ipython3",
   "version": "3.5.0"
  }
 },
 "nbformat": 4,
 "nbformat_minor": 2
}
